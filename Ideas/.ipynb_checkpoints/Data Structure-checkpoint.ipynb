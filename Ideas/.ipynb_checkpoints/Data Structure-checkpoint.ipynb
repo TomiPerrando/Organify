{
 "cells": [
  {
   "cell_type": "code",
   "execution_count": 9,
   "id": "7ec50031-f834-41e4-a981-0d7ed8d6be39",
   "metadata": {},
   "outputs": [],
   "source": [
    "members_type1 = {\n",
    "    \"name\": \"member1\",\n",
    "    \"id\": 1,\n",
    "    \"role\": \"Director\",\n",
    "    \"childs\": [\n",
    "        {\n",
    "            \"name\": \"member1A\",\n",
    "            \"id\": 2,\n",
    "            \"role\": \"Manager\",\n",
    "            \"childs\": [\n",
    "                {\n",
    "                    \"name\": \"member1AA\",\n",
    "                    \"id\": 3,\n",
    "                    \"role\": \"Analyst\"\n",
    "                }\n",
    "            ]\n",
    "        },\n",
    "        {\n",
    "            \"name\": \"member1B\",\n",
    "            \"id\": 4,\n",
    "            \"role\": \"Manager\",\n",
    "            \"childs\": []\n",
    "        }\n",
    "    ]\n",
    "}\n",
    "\n",
    "\n",
    "\n",
    "members_type2 = {\n",
    "    1: {\n",
    "        \"name\": \"member1\",\n",
    "        \"id\": 1,\n",
    "        \"role\": \"Director\",\n",
    "        \"parent\": 0,\n",
    "        \"childs\": [2, 4]\n",
    "    },\n",
    "    2: {\n",
    "        \"name\": \"member1A\",\n",
    "        \"id\": 2,\n",
    "        \"role\": \"Manager\",\n",
    "        \"parent\": 1,\n",
    "        \"childs\": [3]\n",
    "    },\n",
    "    3: {\n",
    "        \"name\": \"member1AA\",\n",
    "        \"id\": 3,\n",
    "        \"role\": \"Analyst\",\n",
    "        \"parent\": 2,\n",
    "        \"childs\": []\n",
    "        },\n",
    "    4: {\n",
    "        \"name\": \"member1B\",\n",
    "        \"id\": 4,\n",
    "        \"role\": \"Manager\",\n",
    "        \"parent\": 1,\n",
    "        \"childs\": []\n",
    "       }          \n",
    "              }"
   ]
  },
  {
   "cell_type": "code",
   "execution_count": 37,
   "id": "04273889-729b-4ca0-9582-346680b1678e",
   "metadata": {},
   "outputs": [
    {
     "data": {
      "text/plain": [
       "'member1AA'"
      ]
     },
     "execution_count": 37,
     "metadata": {},
     "output_type": "execute_result"
    }
   ],
   "source": [
    "members_type1[\"childs\"][0][\"childs\"][0][\"name\"]"
   ]
  },
  {
   "cell_type": "code",
   "execution_count": 51,
   "id": "f21bc16c-c96b-4749-a58c-a7984e9ae9a7",
   "metadata": {},
   "outputs": [
    {
     "data": {
      "text/plain": [
       "'member1AA'"
      ]
     },
     "execution_count": 51,
     "metadata": {},
     "output_type": "execute_result"
    }
   ],
   "source": [
    "members_type2[members_type2[members_type2[1][\"childs\"][0]][\"childs\"][0]][\"name\"]"
   ]
  },
  {
   "cell_type": "code",
   "execution_count": null,
   "id": "539f39a2-f4d9-4afc-95d7-4aad61249224",
   "metadata": {},
   "outputs": [],
   "source": []
  }
 ],
 "metadata": {
  "kernelspec": {
   "display_name": "Python 3 (ipykernel)",
   "language": "python",
   "name": "python3"
  },
  "language_info": {
   "codemirror_mode": {
    "name": "ipython",
    "version": 3
   },
   "file_extension": ".py",
   "mimetype": "text/x-python",
   "name": "python",
   "nbconvert_exporter": "python",
   "pygments_lexer": "ipython3",
   "version": "3.12.4"
  }
 },
 "nbformat": 4,
 "nbformat_minor": 5
}
